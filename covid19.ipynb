{
 "cells": [
  {
   "cell_type": "code",
   "execution_count": 3,
   "id": "942648ce-c11d-41f8-8812-5acc8a0685c5",
   "metadata": {},
   "outputs": [],
   "source": [
    "import numpy as np \n",
    "import pandas as pd\n",
    "import matplotlib.pyplot as plt\n",
    "import seaborn as sns\n",
    "import plotly.express as pt\n",
    "import scipy.stats as stats"
   ]
  },
  {
   "cell_type": "code",
   "execution_count": 4,
   "id": "b5aed30c-aebc-4d69-86c3-ab783d285be3",
   "metadata": {},
   "outputs": [
    {
     "data": {
      "text/html": [
       "<div>\n",
       "<style scoped>\n",
       "    .dataframe tbody tr th:only-of-type {\n",
       "        vertical-align: middle;\n",
       "    }\n",
       "\n",
       "    .dataframe tbody tr th {\n",
       "        vertical-align: top;\n",
       "    }\n",
       "\n",
       "    .dataframe thead th {\n",
       "        text-align: right;\n",
       "    }\n",
       "</style>\n",
       "<table border=\"1\" class=\"dataframe\">\n",
       "  <thead>\n",
       "    <tr style=\"text-align: right;\">\n",
       "      <th></th>\n",
       "      <th>Country/Region</th>\n",
       "      <th>Confirmed</th>\n",
       "      <th>Deaths</th>\n",
       "      <th>Recovered</th>\n",
       "      <th>Active</th>\n",
       "      <th>New cases</th>\n",
       "      <th>New deaths</th>\n",
       "      <th>New recovered</th>\n",
       "      <th>Deaths / 100 Cases</th>\n",
       "      <th>Recovered / 100 Cases</th>\n",
       "      <th>Deaths / 100 Recovered</th>\n",
       "      <th>Confirmed last week</th>\n",
       "      <th>1 week change</th>\n",
       "      <th>1 week % increase</th>\n",
       "      <th>WHO Region</th>\n",
       "    </tr>\n",
       "  </thead>\n",
       "  <tbody>\n",
       "    <tr>\n",
       "      <th>0</th>\n",
       "      <td>Afghanistan</td>\n",
       "      <td>36263</td>\n",
       "      <td>1269</td>\n",
       "      <td>25198</td>\n",
       "      <td>9796</td>\n",
       "      <td>106</td>\n",
       "      <td>10</td>\n",
       "      <td>18</td>\n",
       "      <td>3.50</td>\n",
       "      <td>69.49</td>\n",
       "      <td>5.04</td>\n",
       "      <td>35526</td>\n",
       "      <td>737</td>\n",
       "      <td>2.07</td>\n",
       "      <td>Eastern Mediterranean</td>\n",
       "    </tr>\n",
       "    <tr>\n",
       "      <th>1</th>\n",
       "      <td>Albania</td>\n",
       "      <td>4880</td>\n",
       "      <td>144</td>\n",
       "      <td>2745</td>\n",
       "      <td>1991</td>\n",
       "      <td>117</td>\n",
       "      <td>6</td>\n",
       "      <td>63</td>\n",
       "      <td>2.95</td>\n",
       "      <td>56.25</td>\n",
       "      <td>5.25</td>\n",
       "      <td>4171</td>\n",
       "      <td>709</td>\n",
       "      <td>17.00</td>\n",
       "      <td>Europe</td>\n",
       "    </tr>\n",
       "    <tr>\n",
       "      <th>2</th>\n",
       "      <td>Algeria</td>\n",
       "      <td>27973</td>\n",
       "      <td>1163</td>\n",
       "      <td>18837</td>\n",
       "      <td>7973</td>\n",
       "      <td>616</td>\n",
       "      <td>8</td>\n",
       "      <td>749</td>\n",
       "      <td>4.16</td>\n",
       "      <td>67.34</td>\n",
       "      <td>6.17</td>\n",
       "      <td>23691</td>\n",
       "      <td>4282</td>\n",
       "      <td>18.07</td>\n",
       "      <td>Africa</td>\n",
       "    </tr>\n",
       "    <tr>\n",
       "      <th>3</th>\n",
       "      <td>Andorra</td>\n",
       "      <td>907</td>\n",
       "      <td>52</td>\n",
       "      <td>803</td>\n",
       "      <td>52</td>\n",
       "      <td>10</td>\n",
       "      <td>0</td>\n",
       "      <td>0</td>\n",
       "      <td>5.73</td>\n",
       "      <td>88.53</td>\n",
       "      <td>6.48</td>\n",
       "      <td>884</td>\n",
       "      <td>23</td>\n",
       "      <td>2.60</td>\n",
       "      <td>Europe</td>\n",
       "    </tr>\n",
       "    <tr>\n",
       "      <th>4</th>\n",
       "      <td>Angola</td>\n",
       "      <td>950</td>\n",
       "      <td>41</td>\n",
       "      <td>242</td>\n",
       "      <td>667</td>\n",
       "      <td>18</td>\n",
       "      <td>1</td>\n",
       "      <td>0</td>\n",
       "      <td>4.32</td>\n",
       "      <td>25.47</td>\n",
       "      <td>16.94</td>\n",
       "      <td>749</td>\n",
       "      <td>201</td>\n",
       "      <td>26.84</td>\n",
       "      <td>Africa</td>\n",
       "    </tr>\n",
       "    <tr>\n",
       "      <th>...</th>\n",
       "      <td>...</td>\n",
       "      <td>...</td>\n",
       "      <td>...</td>\n",
       "      <td>...</td>\n",
       "      <td>...</td>\n",
       "      <td>...</td>\n",
       "      <td>...</td>\n",
       "      <td>...</td>\n",
       "      <td>...</td>\n",
       "      <td>...</td>\n",
       "      <td>...</td>\n",
       "      <td>...</td>\n",
       "      <td>...</td>\n",
       "      <td>...</td>\n",
       "      <td>...</td>\n",
       "    </tr>\n",
       "    <tr>\n",
       "      <th>182</th>\n",
       "      <td>West Bank and Gaza</td>\n",
       "      <td>10621</td>\n",
       "      <td>78</td>\n",
       "      <td>3752</td>\n",
       "      <td>6791</td>\n",
       "      <td>152</td>\n",
       "      <td>2</td>\n",
       "      <td>0</td>\n",
       "      <td>0.73</td>\n",
       "      <td>35.33</td>\n",
       "      <td>2.08</td>\n",
       "      <td>8916</td>\n",
       "      <td>1705</td>\n",
       "      <td>19.12</td>\n",
       "      <td>Eastern Mediterranean</td>\n",
       "    </tr>\n",
       "    <tr>\n",
       "      <th>183</th>\n",
       "      <td>Western Sahara</td>\n",
       "      <td>10</td>\n",
       "      <td>1</td>\n",
       "      <td>8</td>\n",
       "      <td>1</td>\n",
       "      <td>0</td>\n",
       "      <td>0</td>\n",
       "      <td>0</td>\n",
       "      <td>10.00</td>\n",
       "      <td>80.00</td>\n",
       "      <td>12.50</td>\n",
       "      <td>10</td>\n",
       "      <td>0</td>\n",
       "      <td>0.00</td>\n",
       "      <td>Africa</td>\n",
       "    </tr>\n",
       "    <tr>\n",
       "      <th>184</th>\n",
       "      <td>Yemen</td>\n",
       "      <td>1691</td>\n",
       "      <td>483</td>\n",
       "      <td>833</td>\n",
       "      <td>375</td>\n",
       "      <td>10</td>\n",
       "      <td>4</td>\n",
       "      <td>36</td>\n",
       "      <td>28.56</td>\n",
       "      <td>49.26</td>\n",
       "      <td>57.98</td>\n",
       "      <td>1619</td>\n",
       "      <td>72</td>\n",
       "      <td>4.45</td>\n",
       "      <td>Eastern Mediterranean</td>\n",
       "    </tr>\n",
       "    <tr>\n",
       "      <th>185</th>\n",
       "      <td>Zambia</td>\n",
       "      <td>4552</td>\n",
       "      <td>140</td>\n",
       "      <td>2815</td>\n",
       "      <td>1597</td>\n",
       "      <td>71</td>\n",
       "      <td>1</td>\n",
       "      <td>465</td>\n",
       "      <td>3.08</td>\n",
       "      <td>61.84</td>\n",
       "      <td>4.97</td>\n",
       "      <td>3326</td>\n",
       "      <td>1226</td>\n",
       "      <td>36.86</td>\n",
       "      <td>Africa</td>\n",
       "    </tr>\n",
       "    <tr>\n",
       "      <th>186</th>\n",
       "      <td>Zimbabwe</td>\n",
       "      <td>2704</td>\n",
       "      <td>36</td>\n",
       "      <td>542</td>\n",
       "      <td>2126</td>\n",
       "      <td>192</td>\n",
       "      <td>2</td>\n",
       "      <td>24</td>\n",
       "      <td>1.33</td>\n",
       "      <td>20.04</td>\n",
       "      <td>6.64</td>\n",
       "      <td>1713</td>\n",
       "      <td>991</td>\n",
       "      <td>57.85</td>\n",
       "      <td>Africa</td>\n",
       "    </tr>\n",
       "  </tbody>\n",
       "</table>\n",
       "<p>187 rows × 15 columns</p>\n",
       "</div>"
      ],
      "text/plain": [
       "         Country/Region  Confirmed  Deaths  Recovered  Active  New cases  \\\n",
       "0           Afghanistan      36263    1269      25198    9796        106   \n",
       "1               Albania       4880     144       2745    1991        117   \n",
       "2               Algeria      27973    1163      18837    7973        616   \n",
       "3               Andorra        907      52        803      52         10   \n",
       "4                Angola        950      41        242     667         18   \n",
       "..                  ...        ...     ...        ...     ...        ...   \n",
       "182  West Bank and Gaza      10621      78       3752    6791        152   \n",
       "183      Western Sahara         10       1          8       1          0   \n",
       "184               Yemen       1691     483        833     375         10   \n",
       "185              Zambia       4552     140       2815    1597         71   \n",
       "186            Zimbabwe       2704      36        542    2126        192   \n",
       "\n",
       "     New deaths  New recovered  Deaths / 100 Cases  Recovered / 100 Cases  \\\n",
       "0            10             18                3.50                  69.49   \n",
       "1             6             63                2.95                  56.25   \n",
       "2             8            749                4.16                  67.34   \n",
       "3             0              0                5.73                  88.53   \n",
       "4             1              0                4.32                  25.47   \n",
       "..          ...            ...                 ...                    ...   \n",
       "182           2              0                0.73                  35.33   \n",
       "183           0              0               10.00                  80.00   \n",
       "184           4             36               28.56                  49.26   \n",
       "185           1            465                3.08                  61.84   \n",
       "186           2             24                1.33                  20.04   \n",
       "\n",
       "     Deaths / 100 Recovered  Confirmed last week  1 week change  \\\n",
       "0                      5.04                35526            737   \n",
       "1                      5.25                 4171            709   \n",
       "2                      6.17                23691           4282   \n",
       "3                      6.48                  884             23   \n",
       "4                     16.94                  749            201   \n",
       "..                      ...                  ...            ...   \n",
       "182                    2.08                 8916           1705   \n",
       "183                   12.50                   10              0   \n",
       "184                   57.98                 1619             72   \n",
       "185                    4.97                 3326           1226   \n",
       "186                    6.64                 1713            991   \n",
       "\n",
       "     1 week % increase             WHO Region  \n",
       "0                 2.07  Eastern Mediterranean  \n",
       "1                17.00                 Europe  \n",
       "2                18.07                 Africa  \n",
       "3                 2.60                 Europe  \n",
       "4                26.84                 Africa  \n",
       "..                 ...                    ...  \n",
       "182              19.12  Eastern Mediterranean  \n",
       "183               0.00                 Africa  \n",
       "184               4.45  Eastern Mediterranean  \n",
       "185              36.86                 Africa  \n",
       "186              57.85                 Africa  \n",
       "\n",
       "[187 rows x 15 columns]"
      ]
     },
     "execution_count": 4,
     "metadata": {},
     "output_type": "execute_result"
    }
   ],
   "source": [
    "data=pd.read_csv('C:/Users/ASUS/covid19/country_wise_latest.csv')\n",
    "data"
   ]
  },
  {
   "cell_type": "code",
   "execution_count": 5,
   "id": "98422f94-7bf4-4d67-9b00-e088ff65b155",
   "metadata": {},
   "outputs": [
    {
     "name": "stdout",
     "output_type": "stream",
     "text": [
      "<class 'pandas.core.frame.DataFrame'>\n",
      "RangeIndex: 187 entries, 0 to 186\n",
      "Data columns (total 15 columns):\n",
      " #   Column                  Non-Null Count  Dtype  \n",
      "---  ------                  --------------  -----  \n",
      " 0   Country/Region          187 non-null    object \n",
      " 1   Confirmed               187 non-null    int64  \n",
      " 2   Deaths                  187 non-null    int64  \n",
      " 3   Recovered               187 non-null    int64  \n",
      " 4   Active                  187 non-null    int64  \n",
      " 5   New cases               187 non-null    int64  \n",
      " 6   New deaths              187 non-null    int64  \n",
      " 7   New recovered           187 non-null    int64  \n",
      " 8   Deaths / 100 Cases      187 non-null    float64\n",
      " 9   Recovered / 100 Cases   187 non-null    float64\n",
      " 10  Deaths / 100 Recovered  187 non-null    float64\n",
      " 11  Confirmed last week     187 non-null    int64  \n",
      " 12  1 week change           187 non-null    int64  \n",
      " 13  1 week % increase       187 non-null    float64\n",
      " 14  WHO Region              187 non-null    object \n",
      "dtypes: float64(4), int64(9), object(2)\n",
      "memory usage: 22.0+ KB\n"
     ]
    }
   ],
   "source": [
    "data.info()"
   ]
  },
  {
   "cell_type": "code",
   "execution_count": 6,
   "id": "b923a48d-a363-4394-b7b6-4f3c76cab410",
   "metadata": {},
   "outputs": [
    {
     "data": {
      "text/html": [
       "<div>\n",
       "<style scoped>\n",
       "    .dataframe tbody tr th:only-of-type {\n",
       "        vertical-align: middle;\n",
       "    }\n",
       "\n",
       "    .dataframe tbody tr th {\n",
       "        vertical-align: top;\n",
       "    }\n",
       "\n",
       "    .dataframe thead th {\n",
       "        text-align: right;\n",
       "    }\n",
       "</style>\n",
       "<table border=\"1\" class=\"dataframe\">\n",
       "  <thead>\n",
       "    <tr style=\"text-align: right;\">\n",
       "      <th></th>\n",
       "      <th>Confirmed</th>\n",
       "      <th>Deaths</th>\n",
       "      <th>Recovered</th>\n",
       "      <th>Active</th>\n",
       "      <th>New cases</th>\n",
       "      <th>New deaths</th>\n",
       "      <th>New recovered</th>\n",
       "      <th>Deaths / 100 Cases</th>\n",
       "      <th>Recovered / 100 Cases</th>\n",
       "      <th>Deaths / 100 Recovered</th>\n",
       "      <th>Confirmed last week</th>\n",
       "      <th>1 week change</th>\n",
       "      <th>1 week % increase</th>\n",
       "    </tr>\n",
       "  </thead>\n",
       "  <tbody>\n",
       "    <tr>\n",
       "      <th>count</th>\n",
       "      <td>1.870000e+02</td>\n",
       "      <td>187.000000</td>\n",
       "      <td>1.870000e+02</td>\n",
       "      <td>1.870000e+02</td>\n",
       "      <td>187.000000</td>\n",
       "      <td>187.000000</td>\n",
       "      <td>187.000000</td>\n",
       "      <td>187.000000</td>\n",
       "      <td>187.000000</td>\n",
       "      <td>187.00</td>\n",
       "      <td>1.870000e+02</td>\n",
       "      <td>187.000000</td>\n",
       "      <td>187.000000</td>\n",
       "    </tr>\n",
       "    <tr>\n",
       "      <th>mean</th>\n",
       "      <td>8.813094e+04</td>\n",
       "      <td>3497.518717</td>\n",
       "      <td>5.063148e+04</td>\n",
       "      <td>3.400194e+04</td>\n",
       "      <td>1222.957219</td>\n",
       "      <td>28.957219</td>\n",
       "      <td>933.812834</td>\n",
       "      <td>3.019519</td>\n",
       "      <td>64.820535</td>\n",
       "      <td>inf</td>\n",
       "      <td>7.868248e+04</td>\n",
       "      <td>9448.459893</td>\n",
       "      <td>13.606203</td>\n",
       "    </tr>\n",
       "    <tr>\n",
       "      <th>std</th>\n",
       "      <td>3.833187e+05</td>\n",
       "      <td>14100.002482</td>\n",
       "      <td>1.901882e+05</td>\n",
       "      <td>2.133262e+05</td>\n",
       "      <td>5710.374790</td>\n",
       "      <td>120.037173</td>\n",
       "      <td>4197.719635</td>\n",
       "      <td>3.454302</td>\n",
       "      <td>26.287694</td>\n",
       "      <td>NaN</td>\n",
       "      <td>3.382737e+05</td>\n",
       "      <td>47491.127684</td>\n",
       "      <td>24.509838</td>\n",
       "    </tr>\n",
       "    <tr>\n",
       "      <th>min</th>\n",
       "      <td>1.000000e+01</td>\n",
       "      <td>0.000000</td>\n",
       "      <td>0.000000e+00</td>\n",
       "      <td>0.000000e+00</td>\n",
       "      <td>0.000000</td>\n",
       "      <td>0.000000</td>\n",
       "      <td>0.000000</td>\n",
       "      <td>0.000000</td>\n",
       "      <td>0.000000</td>\n",
       "      <td>0.00</td>\n",
       "      <td>1.000000e+01</td>\n",
       "      <td>-47.000000</td>\n",
       "      <td>-3.840000</td>\n",
       "    </tr>\n",
       "    <tr>\n",
       "      <th>25%</th>\n",
       "      <td>1.114000e+03</td>\n",
       "      <td>18.500000</td>\n",
       "      <td>6.265000e+02</td>\n",
       "      <td>1.415000e+02</td>\n",
       "      <td>4.000000</td>\n",
       "      <td>0.000000</td>\n",
       "      <td>0.000000</td>\n",
       "      <td>0.945000</td>\n",
       "      <td>48.770000</td>\n",
       "      <td>1.45</td>\n",
       "      <td>1.051500e+03</td>\n",
       "      <td>49.000000</td>\n",
       "      <td>2.775000</td>\n",
       "    </tr>\n",
       "    <tr>\n",
       "      <th>50%</th>\n",
       "      <td>5.059000e+03</td>\n",
       "      <td>108.000000</td>\n",
       "      <td>2.815000e+03</td>\n",
       "      <td>1.600000e+03</td>\n",
       "      <td>49.000000</td>\n",
       "      <td>1.000000</td>\n",
       "      <td>22.000000</td>\n",
       "      <td>2.150000</td>\n",
       "      <td>71.320000</td>\n",
       "      <td>3.62</td>\n",
       "      <td>5.020000e+03</td>\n",
       "      <td>432.000000</td>\n",
       "      <td>6.890000</td>\n",
       "    </tr>\n",
       "    <tr>\n",
       "      <th>75%</th>\n",
       "      <td>4.046050e+04</td>\n",
       "      <td>734.000000</td>\n",
       "      <td>2.260600e+04</td>\n",
       "      <td>9.149000e+03</td>\n",
       "      <td>419.500000</td>\n",
       "      <td>6.000000</td>\n",
       "      <td>221.000000</td>\n",
       "      <td>3.875000</td>\n",
       "      <td>86.885000</td>\n",
       "      <td>6.44</td>\n",
       "      <td>3.708050e+04</td>\n",
       "      <td>3172.000000</td>\n",
       "      <td>16.855000</td>\n",
       "    </tr>\n",
       "    <tr>\n",
       "      <th>max</th>\n",
       "      <td>4.290259e+06</td>\n",
       "      <td>148011.000000</td>\n",
       "      <td>1.846641e+06</td>\n",
       "      <td>2.816444e+06</td>\n",
       "      <td>56336.000000</td>\n",
       "      <td>1076.000000</td>\n",
       "      <td>33728.000000</td>\n",
       "      <td>28.560000</td>\n",
       "      <td>100.000000</td>\n",
       "      <td>inf</td>\n",
       "      <td>3.834677e+06</td>\n",
       "      <td>455582.000000</td>\n",
       "      <td>226.320000</td>\n",
       "    </tr>\n",
       "  </tbody>\n",
       "</table>\n",
       "</div>"
      ],
      "text/plain": [
       "          Confirmed         Deaths     Recovered        Active     New cases  \\\n",
       "count  1.870000e+02     187.000000  1.870000e+02  1.870000e+02    187.000000   \n",
       "mean   8.813094e+04    3497.518717  5.063148e+04  3.400194e+04   1222.957219   \n",
       "std    3.833187e+05   14100.002482  1.901882e+05  2.133262e+05   5710.374790   \n",
       "min    1.000000e+01       0.000000  0.000000e+00  0.000000e+00      0.000000   \n",
       "25%    1.114000e+03      18.500000  6.265000e+02  1.415000e+02      4.000000   \n",
       "50%    5.059000e+03     108.000000  2.815000e+03  1.600000e+03     49.000000   \n",
       "75%    4.046050e+04     734.000000  2.260600e+04  9.149000e+03    419.500000   \n",
       "max    4.290259e+06  148011.000000  1.846641e+06  2.816444e+06  56336.000000   \n",
       "\n",
       "        New deaths  New recovered  Deaths / 100 Cases  Recovered / 100 Cases  \\\n",
       "count   187.000000     187.000000          187.000000             187.000000   \n",
       "mean     28.957219     933.812834            3.019519              64.820535   \n",
       "std     120.037173    4197.719635            3.454302              26.287694   \n",
       "min       0.000000       0.000000            0.000000               0.000000   \n",
       "25%       0.000000       0.000000            0.945000              48.770000   \n",
       "50%       1.000000      22.000000            2.150000              71.320000   \n",
       "75%       6.000000     221.000000            3.875000              86.885000   \n",
       "max    1076.000000   33728.000000           28.560000             100.000000   \n",
       "\n",
       "       Deaths / 100 Recovered  Confirmed last week  1 week change  \\\n",
       "count                  187.00         1.870000e+02     187.000000   \n",
       "mean                      inf         7.868248e+04    9448.459893   \n",
       "std                       NaN         3.382737e+05   47491.127684   \n",
       "min                      0.00         1.000000e+01     -47.000000   \n",
       "25%                      1.45         1.051500e+03      49.000000   \n",
       "50%                      3.62         5.020000e+03     432.000000   \n",
       "75%                      6.44         3.708050e+04    3172.000000   \n",
       "max                       inf         3.834677e+06  455582.000000   \n",
       "\n",
       "       1 week % increase  \n",
       "count         187.000000  \n",
       "mean           13.606203  \n",
       "std            24.509838  \n",
       "min            -3.840000  \n",
       "25%             2.775000  \n",
       "50%             6.890000  \n",
       "75%            16.855000  \n",
       "max           226.320000  "
      ]
     },
     "execution_count": 6,
     "metadata": {},
     "output_type": "execute_result"
    }
   ],
   "source": [
    "data.describe()"
   ]
  },
  {
   "cell_type": "code",
   "execution_count": 7,
   "id": "21169439-0dda-434b-bb23-788945f6b1ba",
   "metadata": {},
   "outputs": [
    {
     "data": {
      "text/html": [
       "<div>\n",
       "<style scoped>\n",
       "    .dataframe tbody tr th:only-of-type {\n",
       "        vertical-align: middle;\n",
       "    }\n",
       "\n",
       "    .dataframe tbody tr th {\n",
       "        vertical-align: top;\n",
       "    }\n",
       "\n",
       "    .dataframe thead th {\n",
       "        text-align: right;\n",
       "    }\n",
       "</style>\n",
       "<table border=\"1\" class=\"dataframe\">\n",
       "  <thead>\n",
       "    <tr style=\"text-align: right;\">\n",
       "      <th></th>\n",
       "      <th>Country/Region</th>\n",
       "      <th>Confirmed</th>\n",
       "      <th>Deaths</th>\n",
       "      <th>Recovered</th>\n",
       "      <th>Active</th>\n",
       "      <th>New cases</th>\n",
       "      <th>New deaths</th>\n",
       "      <th>New recovered</th>\n",
       "      <th>Deaths / 100 Cases</th>\n",
       "      <th>Recovered / 100 Cases</th>\n",
       "      <th>Deaths / 100 Recovered</th>\n",
       "      <th>Confirmed last week</th>\n",
       "      <th>1 week change</th>\n",
       "      <th>1 week % increase</th>\n",
       "      <th>WHO Region</th>\n",
       "    </tr>\n",
       "  </thead>\n",
       "  <tbody>\n",
       "    <tr>\n",
       "      <th>0</th>\n",
       "      <td>Afghanistan</td>\n",
       "      <td>36263</td>\n",
       "      <td>1269</td>\n",
       "      <td>25198</td>\n",
       "      <td>9796</td>\n",
       "      <td>106</td>\n",
       "      <td>10</td>\n",
       "      <td>18</td>\n",
       "      <td>3.50</td>\n",
       "      <td>69.49</td>\n",
       "      <td>5.04</td>\n",
       "      <td>35526</td>\n",
       "      <td>737</td>\n",
       "      <td>2.07</td>\n",
       "      <td>Eastern Mediterranean</td>\n",
       "    </tr>\n",
       "    <tr>\n",
       "      <th>1</th>\n",
       "      <td>Albania</td>\n",
       "      <td>4880</td>\n",
       "      <td>144</td>\n",
       "      <td>2745</td>\n",
       "      <td>1991</td>\n",
       "      <td>117</td>\n",
       "      <td>6</td>\n",
       "      <td>63</td>\n",
       "      <td>2.95</td>\n",
       "      <td>56.25</td>\n",
       "      <td>5.25</td>\n",
       "      <td>4171</td>\n",
       "      <td>709</td>\n",
       "      <td>17.00</td>\n",
       "      <td>Europe</td>\n",
       "    </tr>\n",
       "    <tr>\n",
       "      <th>2</th>\n",
       "      <td>Algeria</td>\n",
       "      <td>27973</td>\n",
       "      <td>1163</td>\n",
       "      <td>18837</td>\n",
       "      <td>7973</td>\n",
       "      <td>616</td>\n",
       "      <td>8</td>\n",
       "      <td>749</td>\n",
       "      <td>4.16</td>\n",
       "      <td>67.34</td>\n",
       "      <td>6.17</td>\n",
       "      <td>23691</td>\n",
       "      <td>4282</td>\n",
       "      <td>18.07</td>\n",
       "      <td>Africa</td>\n",
       "    </tr>\n",
       "    <tr>\n",
       "      <th>3</th>\n",
       "      <td>Andorra</td>\n",
       "      <td>907</td>\n",
       "      <td>52</td>\n",
       "      <td>803</td>\n",
       "      <td>52</td>\n",
       "      <td>10</td>\n",
       "      <td>0</td>\n",
       "      <td>0</td>\n",
       "      <td>5.73</td>\n",
       "      <td>88.53</td>\n",
       "      <td>6.48</td>\n",
       "      <td>884</td>\n",
       "      <td>23</td>\n",
       "      <td>2.60</td>\n",
       "      <td>Europe</td>\n",
       "    </tr>\n",
       "    <tr>\n",
       "      <th>4</th>\n",
       "      <td>Angola</td>\n",
       "      <td>950</td>\n",
       "      <td>41</td>\n",
       "      <td>242</td>\n",
       "      <td>667</td>\n",
       "      <td>18</td>\n",
       "      <td>1</td>\n",
       "      <td>0</td>\n",
       "      <td>4.32</td>\n",
       "      <td>25.47</td>\n",
       "      <td>16.94</td>\n",
       "      <td>749</td>\n",
       "      <td>201</td>\n",
       "      <td>26.84</td>\n",
       "      <td>Africa</td>\n",
       "    </tr>\n",
       "  </tbody>\n",
       "</table>\n",
       "</div>"
      ],
      "text/plain": [
       "  Country/Region  Confirmed  Deaths  Recovered  Active  New cases  New deaths  \\\n",
       "0    Afghanistan      36263    1269      25198    9796        106          10   \n",
       "1        Albania       4880     144       2745    1991        117           6   \n",
       "2        Algeria      27973    1163      18837    7973        616           8   \n",
       "3        Andorra        907      52        803      52         10           0   \n",
       "4         Angola        950      41        242     667         18           1   \n",
       "\n",
       "   New recovered  Deaths / 100 Cases  Recovered / 100 Cases  \\\n",
       "0             18                3.50                  69.49   \n",
       "1             63                2.95                  56.25   \n",
       "2            749                4.16                  67.34   \n",
       "3              0                5.73                  88.53   \n",
       "4              0                4.32                  25.47   \n",
       "\n",
       "   Deaths / 100 Recovered  Confirmed last week  1 week change  \\\n",
       "0                    5.04                35526            737   \n",
       "1                    5.25                 4171            709   \n",
       "2                    6.17                23691           4282   \n",
       "3                    6.48                  884             23   \n",
       "4                   16.94                  749            201   \n",
       "\n",
       "   1 week % increase             WHO Region  \n",
       "0               2.07  Eastern Mediterranean  \n",
       "1              17.00                 Europe  \n",
       "2              18.07                 Africa  \n",
       "3               2.60                 Europe  \n",
       "4              26.84                 Africa  "
      ]
     },
     "execution_count": 7,
     "metadata": {},
     "output_type": "execute_result"
    }
   ],
   "source": [
    "data.head()"
   ]
  },
  {
   "cell_type": "code",
   "execution_count": 13,
   "id": "b3c6d605-67f9-4246-b3c5-bec6e73cd8df",
   "metadata": {},
   "outputs": [],
   "source": [
    "# data.tail()"
   ]
  },
  {
   "cell_type": "code",
   "execution_count": 15,
   "id": "e04c801d-6471-45ce-b321-c02b39f07380",
   "metadata": {},
   "outputs": [
    {
     "data": {
      "text/plain": [
       "(187, 15)"
      ]
     },
     "execution_count": 15,
     "metadata": {},
     "output_type": "execute_result"
    }
   ],
   "source": [
    "data.shape"
   ]
  },
  {
   "cell_type": "code",
   "execution_count": 17,
   "id": "f5698d30-87e3-45d7-8ced-469472786da4",
   "metadata": {},
   "outputs": [
    {
     "data": {
      "text/plain": [
       "Index(['Country/Region', 'Confirmed', 'Deaths', 'Recovered', 'Active',\n",
       "       'New cases', 'New deaths', 'New recovered', 'Deaths / 100 Cases',\n",
       "       'Recovered / 100 Cases', 'Deaths / 100 Recovered',\n",
       "       'Confirmed last week', '1 week change', '1 week % increase',\n",
       "       'WHO Region'],\n",
       "      dtype='object')"
      ]
     },
     "execution_count": 17,
     "metadata": {},
     "output_type": "execute_result"
    }
   ],
   "source": [
    "data.columns"
   ]
  },
  {
   "cell_type": "markdown",
   "id": "069002fc-929d-4ee1-922c-c2d45230b7e4",
   "metadata": {},
   "source": [
    "## DATA VISUALIZATION"
   ]
  },
  {
   "cell_type": "markdown",
   "id": "90a262ea-8e5d-48b3-9636-85b1e0ee25ca",
   "metadata": {},
   "source": [
    "## Top 10 countries with highest number of confirmed cases\n"
   ]
  },
  {
   "cell_type": "code",
   "execution_count": 23,
   "id": "a39725f4-292c-4d39-8871-97eaba22e896",
   "metadata": {},
   "outputs": [
    {
     "data": {
      "text/html": [
       "<div>\n",
       "<style scoped>\n",
       "    .dataframe tbody tr th:only-of-type {\n",
       "        vertical-align: middle;\n",
       "    }\n",
       "\n",
       "    .dataframe tbody tr th {\n",
       "        vertical-align: top;\n",
       "    }\n",
       "\n",
       "    .dataframe thead th {\n",
       "        text-align: right;\n",
       "    }\n",
       "</style>\n",
       "<table border=\"1\" class=\"dataframe\">\n",
       "  <thead>\n",
       "    <tr style=\"text-align: right;\">\n",
       "      <th></th>\n",
       "      <th>Country/Region</th>\n",
       "      <th>Confirmed</th>\n",
       "      <th>Recovered</th>\n",
       "    </tr>\n",
       "  </thead>\n",
       "  <tbody>\n",
       "    <tr>\n",
       "      <th>173</th>\n",
       "      <td>US</td>\n",
       "      <td>4290259</td>\n",
       "      <td>1325804</td>\n",
       "    </tr>\n",
       "    <tr>\n",
       "      <th>23</th>\n",
       "      <td>Brazil</td>\n",
       "      <td>2442375</td>\n",
       "      <td>1846641</td>\n",
       "    </tr>\n",
       "    <tr>\n",
       "      <th>79</th>\n",
       "      <td>India</td>\n",
       "      <td>1480073</td>\n",
       "      <td>951166</td>\n",
       "    </tr>\n",
       "    <tr>\n",
       "      <th>138</th>\n",
       "      <td>Russia</td>\n",
       "      <td>816680</td>\n",
       "      <td>602249</td>\n",
       "    </tr>\n",
       "    <tr>\n",
       "      <th>154</th>\n",
       "      <td>South Africa</td>\n",
       "      <td>452529</td>\n",
       "      <td>274925</td>\n",
       "    </tr>\n",
       "    <tr>\n",
       "      <th>111</th>\n",
       "      <td>Mexico</td>\n",
       "      <td>395489</td>\n",
       "      <td>303810</td>\n",
       "    </tr>\n",
       "    <tr>\n",
       "      <th>132</th>\n",
       "      <td>Peru</td>\n",
       "      <td>389717</td>\n",
       "      <td>272547</td>\n",
       "    </tr>\n",
       "    <tr>\n",
       "      <th>35</th>\n",
       "      <td>Chile</td>\n",
       "      <td>347923</td>\n",
       "      <td>319954</td>\n",
       "    </tr>\n",
       "    <tr>\n",
       "      <th>177</th>\n",
       "      <td>United Kingdom</td>\n",
       "      <td>301708</td>\n",
       "      <td>1437</td>\n",
       "    </tr>\n",
       "    <tr>\n",
       "      <th>81</th>\n",
       "      <td>Iran</td>\n",
       "      <td>293606</td>\n",
       "      <td>255144</td>\n",
       "    </tr>\n",
       "  </tbody>\n",
       "</table>\n",
       "</div>"
      ],
      "text/plain": [
       "     Country/Region  Confirmed  Recovered\n",
       "173              US    4290259    1325804\n",
       "23           Brazil    2442375    1846641\n",
       "79            India    1480073     951166\n",
       "138          Russia     816680     602249\n",
       "154    South Africa     452529     274925\n",
       "111          Mexico     395489     303810\n",
       "132            Peru     389717     272547\n",
       "35            Chile     347923     319954\n",
       "177  United Kingdom     301708       1437\n",
       "81             Iran     293606     255144"
      ]
     },
     "execution_count": 23,
     "metadata": {},
     "output_type": "execute_result"
    }
   ],
   "source": [
    "highest_confirmed_cases = data.sort_values('Confirmed', ascending = False).head(10)\n",
    "highest_confirmed_cases[['Country/Region','Confirmed',\"Recovered\"]]"
   ]
  },
  {
   "cell_type": "code",
   "execution_count": 277,
   "id": "d921ba1a-62d6-4afa-ba10-8327e7d7c637",
   "metadata": {},
   "outputs": [
    {
     "name": "stderr",
     "output_type": "stream",
     "text": [
      "C:\\Users\\ASUS\\AppData\\Local\\Temp\\ipykernel_5492\\657780831.py:1: FutureWarning:\n",
      "\n",
      "\n",
      "\n",
      "Passing `palette` without assigning `hue` is deprecated and will be removed in v0.14.0. Assign the `y` variable to `hue` and set `legend=False` for the same effect.\n",
      "\n",
      "\n"
     ]
    },
    {
     "data": {
      "text/plain": [
       "<Axes: xlabel='Confirmed', ylabel='Country/Region'>"
      ]
     },
     "execution_count": 277,
     "metadata": {},
     "output_type": "execute_result"
    },
    {
     "data": {
      "image/png": "[encoded data removed]",
      "text/plain": [
       "<Figure size 640x480 with 1 Axes>"
      ]
     },
     "metadata": {},
     "output_type": "display_data"
    }
   ],
   "source": [
    "sns.barplot(data = highest_confirmed_cases, y=\"Country/Region\", x=\"Confirmed\", palette = \"flare\")"
   ]
  },
  {
   "cell_type": "markdown",
   "id": "7dff5daa-b2a0-4784-9d44-199be0d4bf76",
   "metadata": {},
   "source": [
    "* US and Brazil are have most number of confirmed cases."
   ]
  },
  {
   "cell_type": "markdown",
   "id": "e65d36e8-e920-44b3-afa4-1f138dcb8037",
   "metadata": {},
   "source": [
    "### Which 10 Country/Region has highest recovery rate"
   ]
  },
  {
   "cell_type": "code",
   "execution_count": 25,
   "id": "983edfee-03d8-48e8-b19c-aabed7de62d9",
   "metadata": {},
   "outputs": [
    {
     "data": {
      "text/html": [
       "<div>\n",
       "<style scoped>\n",
       "    .dataframe tbody tr th:only-of-type {\n",
       "        vertical-align: middle;\n",
       "    }\n",
       "\n",
       "    .dataframe tbody tr th {\n",
       "        vertical-align: top;\n",
       "    }\n",
       "\n",
       "    .dataframe thead th {\n",
       "        text-align: right;\n",
       "    }\n",
       "</style>\n",
       "<table border=\"1\" class=\"dataframe\">\n",
       "  <thead>\n",
       "    <tr style=\"text-align: right;\">\n",
       "      <th></th>\n",
       "      <th>Country/Region</th>\n",
       "      <th>Confirmed</th>\n",
       "      <th>Recovered</th>\n",
       "      <th>Recovered / 100 Cases</th>\n",
       "    </tr>\n",
       "  </thead>\n",
       "  <tbody>\n",
       "    <tr>\n",
       "      <th>75</th>\n",
       "      <td>Holy See</td>\n",
       "      <td>12</td>\n",
       "      <td>12</td>\n",
       "      <td>100.00</td>\n",
       "    </tr>\n",
       "    <tr>\n",
       "      <th>69</th>\n",
       "      <td>Grenada</td>\n",
       "      <td>23</td>\n",
       "      <td>23</td>\n",
       "      <td>100.00</td>\n",
       "    </tr>\n",
       "    <tr>\n",
       "      <th>49</th>\n",
       "      <td>Dominica</td>\n",
       "      <td>18</td>\n",
       "      <td>18</td>\n",
       "      <td>100.00</td>\n",
       "    </tr>\n",
       "    <tr>\n",
       "      <th>48</th>\n",
       "      <td>Djibouti</td>\n",
       "      <td>5059</td>\n",
       "      <td>4977</td>\n",
       "      <td>98.38</td>\n",
       "    </tr>\n",
       "    <tr>\n",
       "      <th>78</th>\n",
       "      <td>Iceland</td>\n",
       "      <td>1854</td>\n",
       "      <td>1823</td>\n",
       "      <td>98.33</td>\n",
       "    </tr>\n",
       "    <tr>\n",
       "      <th>24</th>\n",
       "      <td>Brunei</td>\n",
       "      <td>141</td>\n",
       "      <td>138</td>\n",
       "      <td>97.87</td>\n",
       "    </tr>\n",
       "    <tr>\n",
       "      <th>121</th>\n",
       "      <td>New Zealand</td>\n",
       "      <td>1557</td>\n",
       "      <td>1514</td>\n",
       "      <td>97.24</td>\n",
       "    </tr>\n",
       "    <tr>\n",
       "      <th>136</th>\n",
       "      <td>Qatar</td>\n",
       "      <td>109597</td>\n",
       "      <td>106328</td>\n",
       "      <td>97.02</td>\n",
       "    </tr>\n",
       "    <tr>\n",
       "      <th>105</th>\n",
       "      <td>Malaysia</td>\n",
       "      <td>8904</td>\n",
       "      <td>8601</td>\n",
       "      <td>96.60</td>\n",
       "    </tr>\n",
       "    <tr>\n",
       "      <th>110</th>\n",
       "      <td>Mauritius</td>\n",
       "      <td>344</td>\n",
       "      <td>332</td>\n",
       "      <td>96.51</td>\n",
       "    </tr>\n",
       "  </tbody>\n",
       "</table>\n",
       "</div>"
      ],
      "text/plain": [
       "    Country/Region  Confirmed  Recovered  Recovered / 100 Cases\n",
       "75        Holy See         12         12                 100.00\n",
       "69         Grenada         23         23                 100.00\n",
       "49        Dominica         18         18                 100.00\n",
       "48        Djibouti       5059       4977                  98.38\n",
       "78         Iceland       1854       1823                  98.33\n",
       "24          Brunei        141        138                  97.87\n",
       "121    New Zealand       1557       1514                  97.24\n",
       "136          Qatar     109597     106328                  97.02\n",
       "105       Malaysia       8904       8601                  96.60\n",
       "110      Mauritius        344        332                  96.51"
      ]
     },
     "execution_count": 25,
     "metadata": {},
     "output_type": "execute_result"
    }
   ],
   "source": [
    "highest_recovery_rate = data.sort_values('Recovered / 100 Cases',ascending =False).head(10)\n",
    "highest_recovery_rate[['Country/Region','Confirmed','Recovered','Recovered / 100 Cases']]"
   ]
  },
  {
   "cell_type": "code",
   "execution_count": 31,
   "id": "858e3e9a-b538-4255-8657-71cd9cfd28ad",
   "metadata": {},
   "outputs": [
    {
     "data": {
      "text/plain": [
       "<Axes: xlabel='Country/Region', ylabel='Recovered / 100 Cases'>"
      ]
     },
     "execution_count": 31,
     "metadata": {},
     "output_type": "execute_result"
    },
    {
     "data": {
      "image/png": "[encoded data removed]",
      "text/plain": [
       "<Figure size 1000x500 with 1 Axes>"
      ]
     },
     "metadata": {},
     "output_type": "display_data"
    }
   ],
   "source": [
    "plt.figure(figsize=(10, 5))\n",
    "sns.barplot(data = highest_recovery_rate, y=\"Recovered / 100 Cases\",x=\"Country/Region\")"
   ]
  },
  {
   "cell_type": "markdown",
   "id": "ad3ad3d3-987c-4ad3-9351-c5038035dfd5",
   "metadata": {},
   "source": [
    "* Qatar has 109597 confirmed cases, out of that 106328 people are recovered.\n",
    "* HOLY SEE, Grenada, Dominica countries have 100% Recovery rate. "
   ]
  },
  {
   "cell_type": "markdown",
   "id": "0d81bd4e-97b4-452d-86fb-8528548b7d8d",
   "metadata": {},
   "source": [
    "### Calculate total number of cases in each WHO Region"
   ]
  },
  {
   "cell_type": "code",
   "execution_count": 287,
   "id": "fa02947e-e321-4fb9-81be-76453b853fb2",
   "metadata": {},
   "outputs": [
    {
     "name": "stdout",
     "output_type": "stream",
     "text": [
      "['Eastern Mediterranean' 'Europe' 'Africa' 'Americas' 'Western Pacific'\n",
      " 'South-East Asia']\n",
      "Eastern Mediterranean   1490744\n",
      "Europe                 3299523\n",
      "Africa                  723207\n",
      "Americas               8839286\n",
      "Western Pacific         292428\n",
      "South-East Asia        1835297\n"
     ]
    }
   ],
   "source": [
    "x = data['WHO Region'].unique()\n",
    "print(x)\n",
    "for i in x:\n",
    "    mask = data['WHO Region'] == i\n",
    "    #print(mask)\n",
    "    a =data[mask]['Confirmed'].sum()\n",
    "    print(f\"{i:20}{a:10}\")"
   ]
  },
  {
   "cell_type": "code",
   "execution_count": 289,
   "id": "aef66c56-48b8-4ed3-bf7d-05b851df63dd",
   "metadata": {},
   "outputs": [
    {
     "data": {
      "image/png": "[encoded data removed]",
      "text/plain": [
       "<Figure size 800x600 with 1 Axes>"
      ]
     },
     "metadata": {},
     "output_type": "display_data"
    }
   ],
   "source": [
    "sns.set_style(\"whitegrid\")\n",
    "labels = ['Europe', 'Africa', 'Americas','Eastern Mediterranean', 'Western Pacific', 'South-East Asia']\n",
    "plt.figure(figsize=(8,6))\n",
    "plt.pie(data['WHO Region'].value_counts(), labels = labels, autopct = '%.2f%%',pctdistance=0.8)\n",
    "plt.title(\"Percentage of Cases in each WHO Region\")\n",
    "plt.show()"
   ]
  },
  {
   "cell_type": "markdown",
   "id": "5551e487-f41a-4a1c-9079-375386a566ca",
   "metadata": {},
   "source": [
    "### Which Country/Region has highest active cases\n",
    "\n"
   ]
  },
  {
   "cell_type": "code",
   "execution_count": 292,
   "id": "1580c98f-c1c1-45e0-9e20-6a138ed342e3",
   "metadata": {},
   "outputs": [
    {
     "name": "stdout",
     "output_type": "stream",
     "text": [
      "['US']  -  [2816444]\n"
     ]
    }
   ],
   "source": [
    "a = data.sort_values('Active', ascending=False, ignore_index=True).head(1)\n",
    "# a\n",
    "print(a['Country/Region'].values,\" - \",a['Active'].values)"
   ]
  },
  {
   "cell_type": "markdown",
   "id": "81489f10-f820-41c9-8b76-b8027ae54c91",
   "metadata": {},
   "source": [
    "### Total number of countries in each WHO Region\n",
    "\n"
   ]
  },
  {
   "cell_type": "code",
   "execution_count": 295,
   "id": "c98b4e54-0832-4ad9-9863-d886f6aa31a6",
   "metadata": {},
   "outputs": [
    {
     "data": {
      "image/png": "[encoded data removed]",
      "text/plain": [
       "<Figure size 1000x500 with 1 Axes>"
      ]
     },
     "metadata": {},
     "output_type": "display_data"
    }
   ],
   "source": [
    "plt.figure(figsize=(10, 5))\n",
    "sns.countplot(x=\"WHO Region\",data=data,order = data.groupby(by=['WHO Region']).count().index)\n",
    "plt.title(\"Number of Country in each WHO Region\")\n",
    "plt.show()"
   ]
  },
  {
   "cell_type": "markdown",
   "id": "17bba785-7fcd-42d1-9978-a7247e158ec1",
   "metadata": {},
   "source": [
    "## What is the Recovery Percentage of each WHO Region?"
   ]
  },
  {
   "cell_type": "code",
   "execution_count": 298,
   "id": "85dc6f51-b3ec-47d4-9157-b4fa0090be30",
   "metadata": {},
   "outputs": [
    {
     "data": {
      "image/png": "[encoded data removed]",
      "text/plain": [
       "<Figure size 1000x500 with 1 Axes>"
      ]
     },
     "metadata": {},
     "output_type": "display_data"
    }
   ],
   "source": [
    "a1 = data[data['WHO Region'] =='Eastern Mediterranean']['Recovered'].sum()\n",
    "a2 = data[data['WHO Region'] =='Europe']['Recovered'].sum()\n",
    "a3 = data[data['WHO Region'] =='Africa']['Recovered'].sum()\n",
    "a4 = data[data['WHO Region'] =='Americas']['Recovered'].sum()\n",
    "a5 = data[data['WHO Region'] =='Western Pacific']['Recovered'].sum()\n",
    "a6 = data[data['WHO Region'] =='South-East Asia']['Recovered'].sum()\n",
    "x = [a1, a2, a3, a4, a5, a6]\n",
    "labels = ['Eastern Mediterranean', 'Europe', 'Africa', 'Americas',\n",
    "       'Western Pacific', 'South-East Asia']\n",
    "plt.figure(figsize=(10,5))\n",
    "plt.pie(x,labels = labels, autopct = '%.2f%%',pctdistance=0.8)\n",
    "plt.title(\"Recovery Percentage of each WHO Region\")\n",
    "plt.show()"
   ]
  },
  {
   "cell_type": "markdown",
   "id": "946496a0-b0de-4662-ab3d-6db83e004329",
   "metadata": {},
   "source": [
    "### Death Rates in range\n",
    "\n"
   ]
  },
  {
   "cell_type": "code",
   "execution_count": 301,
   "id": "e9996295-e03f-4479-93fd-cc63707ac433",
   "metadata": {},
   "outputs": [
    {
     "name": "stderr",
     "output_type": "stream",
     "text": [
      "C:\\Users\\ASUS\\AppData\\Local\\Temp\\ipykernel_5492\\1520094122.py:2: FutureWarning:\n",
      "\n",
      "\n",
      "\n",
      "Passing `palette` without assigning `hue` is deprecated and will be removed in v0.14.0. Assign the `y` variable to `hue` and set `legend=False` for the same effect.\n",
      "\n",
      "\n"
     ]
    },
    {
     "data": {
      "image/png": "[encoded data removed]",
      "text/plain": [
       "<Figure size 1000x800 with 1 Axes>"
      ]
     },
     "metadata": {},
     "output_type": "display_data"
    }
   ],
   "source": [
    "plt.figure(figsize=(10,8))\n",
    "sns.barplot(data = data, y=\"WHO Region\", x=\"Deaths\", palette = \"flare\")\n",
    "plt.xlabel(\"Range\")\n",
    "plt.ylabel(\"Number of countries\")\n",
    "plt.title(\"Number of Deaths\")\n",
    "plt.show()"
   ]
  },
  {
   "cell_type": "code",
   "execution_count": 302,
   "id": "341a6341-b531-4817-bfc9-6fc67fa971a8",
   "metadata": {},
   "outputs": [
    {
     "data": {
      "image/png": "[encoded data removed]",
      "text/plain": [
       "<Figure size 1000x800 with 1 Axes>"
      ]
     },
     "metadata": {},
     "output_type": "display_data"
    }
   ],
   "source": [
    "death = data['Deaths']\n",
    "d1 = death[death<1000].count()\n",
    "d2 =death[(death>=1000) & (death<2000)].count()\n",
    "d3 =death[(death>=2000) & (death<4000)].count()\n",
    "d4 =death[(death>=4000) & (death<6000)].count()\n",
    "d5 =death[(death>=6000) & (death<8000)].count()\n",
    "d6 =death[(death>=8000) & (death<10000)].count()\n",
    "d7 =death[death>=10000].count()\n",
    "x = ['<1000','1000-2000','2000-4000','4000-6000','6000-8000','8000-10000','10000 & above']\n",
    "y = [d1,d2,d3,d4,d5,d6,d7]\n",
    "plt.figure(figsize=(10,8))\n",
    "sns.barplot(x=x, y=y)\n",
    "plt.xlabel(\"Range\")\n",
    "plt.ylabel(\"Number of countries\")\n",
    "plt.title(\"Number of Deaths\")\n",
    "plt.show()"
   ]
  },
  {
   "cell_type": "markdown",
   "id": "30275e2a-431c-44cd-96b5-273f82e39191",
   "metadata": {},
   "source": [
    "### What is the number of Active cases in each region?"
   ]
  },
  {
   "cell_type": "code",
   "execution_count": 306,
   "id": "fb5a59fa-261f-4a62-b5d5-17032a1e3980",
   "metadata": {},
   "outputs": [
    {
     "data": {
      "image/png": "[encoded data removed]",
      "text/plain": [
       "<Figure size 1000x800 with 1 Axes>"
      ]
     },
     "metadata": {},
     "output_type": "display_data"
    }
   ],
   "source": [
    "a1 = data[data['WHO Region'] =='Eastern Mediterranean']['Active'].sum()\n",
    "a2 = data[data['WHO Region'] =='Europe']['Active'].sum()\n",
    "a3 = data[data['WHO Region'] =='Africa']['Active'].sum()\n",
    "a4 = data[data['WHO Region'] =='Americas']['Active'].sum()\n",
    "a5 = data[data['WHO Region'] =='Western Pacific']['Active'].sum()\n",
    "a6 = data[data['WHO Region'] =='South-East Asia']['Active'].sum()\n",
    "y = [a1, a2, a3, a4, a5, a6]\n",
    "x = ['Eastern Mediterranean', 'Europe', 'Africa', 'Americas',\n",
    "       'Western Pacific', 'South-East Asia']\n",
    "plt.figure(figsize=(10,8))\n",
    "plt.barh(x, y)\n",
    "for i,j in enumerate(y):\n",
    "    plt.text(j,i,str(j))\n",
    "plt.title(\"Region wise Active Cases\")\n",
    "plt.show()"
   ]
  },
  {
   "cell_type": "markdown",
   "id": "a00649c9-4105-4972-b9bb-b516a29875a1",
   "metadata": {},
   "source": [
    "### Region wise new cases count"
   ]
  },
  {
   "cell_type": "code",
   "execution_count": 309,
   "id": "87d812b6-4530-438a-b6f3-0f785ea6daff",
   "metadata": {},
   "outputs": [
    {
     "data": {
      "image/png": "[encoded data removed]",
      "text/plain": [
       "<Figure size 1000x500 with 1 Axes>"
      ]
     },
     "metadata": {},
     "output_type": "display_data"
    }
   ],
   "source": [
    "plt.figure(figsize=(10, 5))\n",
    "sns.barplot(x=\"WHO Region\", y=\"New cases\",data=data)\n",
    "plt.title(\"Number of New Cases in each WHO Region\")\n",
    "plt.show()"
   ]
  },
  {
   "cell_type": "markdown",
   "id": "9564afb9-d77c-48fc-b6a9-749f2ee3ad90",
   "metadata": {},
   "source": [
    "#### Heatmap"
   ]
  },
  {
   "cell_type": "code",
   "execution_count": 312,
   "id": "52709a21-f912-4a5e-b478-6f96171c67e9",
   "metadata": {},
   "outputs": [
    {
     "data": {
      "application/vnd.plotly.v1+json": {
       "config": {
        "plotlyServerURL": "https://plot.ly"
       },
       "data": [
        {
         "coloraxis": "coloraxis",
         "hovertemplate": "x: %{x}<br>y: %{y}<br>color: %{z}<extra></extra>",
         "name": "0",
         "texttemplate": "%{z}",
         "type": "heatmap",
         "x": [
          "Deaths",
          "Recovered",
          "Active",
          "Confirmed"
         ],
         "xaxis": "x",
         "y": [
          "Deaths",
          "Recovered",
          "Active",
          "Confirmed"
         ],
         "yaxis": "y",
         "z": [
          [
           "1.00",
           "0.83",
           "0.87",
           "0.93"
          ],
          [
           "0.83",
           "1.00",
           "0.68",
           "0.91"
          ],
          [
           "0.87",
           "0.68",
           "1.00",
           "0.93"
          ],
          [
           "0.93",
           "0.91",
           "0.93",
           "1.00"
          ]
         ]
        }
       ],
       "layout": {
        "coloraxis": {
         "colorscale": [
          [
           0,
           "#0d0887"
          ],
          [
           0.1111111111111111,
           "#46039f"
          ],
          [
           0.2222222222222222,
           "#7201a8"
          ],
          [
           0.3333333333333333,
           "#9c179e"
          ],
          [
           0.4444444444444444,
           "#bd3786"
          ],
          [
           0.5555555555555556,
           "#d8576b"
          ],
          [
           0.6666666666666666,
           "#ed7953"
          ],
          [
           0.7777777777777778,
           "#fb9f3a"
          ],
          [
           0.8888888888888888,
           "#fdca26"
          ],
          [
           1,
           "#f0f921"
          ]
         ]
        },
        "height": 400,
        "margin": {
         "t": 60
        },
        "template": {
         "data": {
          "bar": [
           {
            "error_x": {
             "color": "#2a3f5f"
            },
            "error_y": {
             "color": "#2a3f5f"
            },
            "marker": {
             "line": {
              "color": "#E5ECF6",
              "width": 0.5
             },
             "pattern": {
              "fillmode": "overlay",
              "size": 10,
              "solidity": 0.2
             }
            },
            "type": "bar"
           }
          ],
          "barpolar": [
           {
            "marker": {
             "line": {
              "color": "#E5ECF6",
              "width": 0.5
             },
             "pattern": {
              "fillmode": "overlay",
              "size": 10,
              "solidity": 0.2
             }
            },
            "type": "barpolar"
           }
          ],
          "carpet": [
           {
            "aaxis": {
             "endlinecolor": "#2a3f5f",
             "gridcolor": "white",
             "linecolor": "white",
             "minorgridcolor": "white",
             "startlinecolor": "#2a3f5f"
            },
            "baxis": {
             "endlinecolor": "#2a3f5f",
             "gridcolor": "white",
             "linecolor": "white",
             "minorgridcolor": "white",
             "startlinecolor": "#2a3f5f"
            },
            "type": "carpet"
           }
          ],
          "choropleth": [
           {
            "colorbar": {
             "outlinewidth": 0,
             "ticks": ""
            },
            "type": "choropleth"
           }
          ],
          "contour": [
           {
            "colorbar": {
             "outlinewidth": 0,
             "ticks": ""
            },
            "colorscale": [
             [
              0,
              "#0d0887"
             ],
             [
              0.1111111111111111,
              "#46039f"
             ],
             [
              0.2222222222222222,
              "#7201a8"
             ],
             [
              0.3333333333333333,
              "#9c179e"
             ],
             [
              0.4444444444444444,
              "#bd3786"
             ],
             [
              0.5555555555555556,
              "#d8576b"
             ],
             [
              0.6666666666666666,
              "#ed7953"
             ],
             [
              0.7777777777777778,
              "#fb9f3a"
             ],
             [
              0.8888888888888888,
              "#fdca26"
             ],
             [
              1,
              "#f0f921"
             ]
            ],
            "type": "contour"
           }
          ],
          "contourcarpet": [
           {
            "colorbar": {
             "outlinewidth": 0,
             "ticks": ""
            },
            "type": "contourcarpet"
           }
          ],
          "heatmap": [
           {
            "colorbar": {
             "outlinewidth": 0,
             "ticks": ""
            },
            "colorscale": [
             [
              0,
              "#0d0887"
             ],
             [
              0.1111111111111111,
              "#46039f"
             ],
             [
              0.2222222222222222,
              "#7201a8"
             ],
             [
              0.3333333333333333,
              "#9c179e"
             ],
             [
              0.4444444444444444,
              "#bd3786"
             ],
             [
              0.5555555555555556,
              "#d8576b"
             ],
             [
              0.6666666666666666,
              "#ed7953"
             ],
             [
              0.7777777777777778,
              "#fb9f3a"
             ],
             [
              0.8888888888888888,
              "#fdca26"
             ],
             [
              1,
              "#f0f921"
             ]
            ],
            "type": "heatmap"
           }
          ],
          "heatmapgl": [
           {
            "colorbar": {
             "outlinewidth": 0,
             "ticks": ""
            },
            "colorscale": [
             [
              0,
              "#0d0887"
             ],
             [
              0.1111111111111111,
              "#46039f"
             ],
             [
              0.2222222222222222,
              "#7201a8"
             ],
             [
              0.3333333333333333,
              "#9c179e"
             ],
             [
              0.4444444444444444,
              "#bd3786"
             ],
             [
              0.5555555555555556,
              "#d8576b"
             ],
             [
              0.6666666666666666,
              "#ed7953"
             ],
             [
              0.7777777777777778,
              "#fb9f3a"
             ],
             [
              0.8888888888888888,
              "#fdca26"
             ],
             [
              1,
              "#f0f921"
             ]
            ],
            "type": "heatmapgl"
           }
          ],
          "histogram": [
           {
            "marker": {
             "pattern": {
              "fillmode": "overlay",
              "size": 10,
              "solidity": 0.2
             }
            },
            "type": "histogram"
           }
          ],
          "histogram2d": [
           {
            "colorbar": {
             "outlinewidth": 0,
             "ticks": ""
            },
            "colorscale": [
             [
              0,
              "#0d0887"
             ],
             [
              0.1111111111111111,
              "#46039f"
             ],
             [
              0.2222222222222222,
              "#7201a8"
             ],
             [
              0.3333333333333333,
              "#9c179e"
             ],
             [
              0.4444444444444444,
              "#bd3786"
             ],
             [
              0.5555555555555556,
              "#d8576b"
             ],
             [
              0.6666666666666666,
              "#ed7953"
             ],
             [
              0.7777777777777778,
              "#fb9f3a"
             ],
             [
              0.8888888888888888,
              "#fdca26"
             ],
             [
              1,
              "#f0f921"
             ]
            ],
            "type": "histogram2d"
           }
          ],
          "histogram2dcontour": [
           {
            "colorbar": {
             "outlinewidth": 0,
             "ticks": ""
            },
            "colorscale": [
             [
              0,
              "#0d0887"
             ],
             [
              0.1111111111111111,
              "#46039f"
             ],
             [
              0.2222222222222222,
              "#7201a8"
             ],
             [
              0.3333333333333333,
              "#9c179e"
             ],
             [
              0.4444444444444444,
              "#bd3786"
             ],
             [
              0.5555555555555556,
              "#d8576b"
             ],
             [
              0.6666666666666666,
              "#ed7953"
             ],
             [
              0.7777777777777778,
              "#fb9f3a"
             ],
             [
              0.8888888888888888,
              "#fdca26"
             ],
             [
              1,
              "#f0f921"
             ]
            ],
            "type": "histogram2dcontour"
           }
          ],
          "mesh3d": [
           {
            "colorbar": {
             "outlinewidth": 0,
             "ticks": ""
            },
            "type": "mesh3d"
           }
          ],
          "parcoords": [
           {
            "line": {
             "colorbar": {
              "outlinewidth": 0,
              "ticks": ""
             }
            },
            "type": "parcoords"
           }
          ],
          "pie": [
           {
            "automargin": true,
            "type": "pie"
           }
          ],
          "scatter": [
           {
            "fillpattern": {
             "fillmode": "overlay",
             "size": 10,
             "solidity": 0.2
            },
            "type": "scatter"
           }
          ],
          "scatter3d": [
           {
            "line": {
             "colorbar": {
              "outlinewidth": 0,
              "ticks": ""
             }
            },
            "marker": {
             "colorbar": {
              "outlinewidth": 0,
              "ticks": ""
             }
            },
            "type": "scatter3d"
           }
          ],
          "scattercarpet": [
           {
            "marker": {
             "colorbar": {
              "outlinewidth": 0,
              "ticks": ""
             }
            },
            "type": "scattercarpet"
           }
          ],
          "scattergeo": [
           {
            "marker": {
             "colorbar": {
              "outlinewidth": 0,
              "ticks": ""
             }
            },
            "type": "scattergeo"
           }
          ],
          "scattergl": [
           {
            "marker": {
             "colorbar": {
              "outlinewidth": 0,
              "ticks": ""
             }
            },
            "type": "scattergl"
           }
          ],
          "scattermapbox": [
           {
            "marker": {
             "colorbar": {
              "outlinewidth": 0,
              "ticks": ""
             }
            },
            "type": "scattermapbox"
           }
          ],
          "scatterpolar": [
           {
            "marker": {
             "colorbar": {
              "outlinewidth": 0,
              "ticks": ""
             }
            },
            "type": "scatterpolar"
           }
          ],
          "scatterpolargl": [
           {
            "marker": {
             "colorbar": {
              "outlinewidth": 0,
              "ticks": ""
             }
            },
            "type": "scatterpolargl"
           }
          ],
          "scatterternary": [
           {
            "marker": {
             "colorbar": {
              "outlinewidth": 0,
              "ticks": ""
             }
            },
            "type": "scatterternary"
           }
          ],
          "surface": [
           {
            "colorbar": {
             "outlinewidth": 0,
             "ticks": ""
            },
            "colorscale": [
             [
              0,
              "#0d0887"
             ],
             [
              0.1111111111111111,
              "#46039f"
             ],
             [
              0.2222222222222222,
              "#7201a8"
             ],
             [
              0.3333333333333333,
              "#9c179e"
             ],
             [
              0.4444444444444444,
              "#bd3786"
             ],
             [
              0.5555555555555556,
              "#d8576b"
             ],
             [
              0.6666666666666666,
              "#ed7953"
             ],
             [
              0.7777777777777778,
              "#fb9f3a"
             ],
             [
              0.8888888888888888,
              "#fdca26"
             ],
             [
              1,
              "#f0f921"
             ]
            ],
            "type": "surface"
           }
          ],
          "table": [
           {
            "cells": {
             "fill": {
              "color": "#EBF0F8"
             },
             "line": {
              "color": "white"
             }
            },
            "header": {
             "fill": {
              "color": "#C8D4E3"
             },
             "line": {
              "color": "white"
             }
            },
            "type": "table"
           }
          ]
         },
         "layout": {
          "annotationdefaults": {
           "arrowcolor": "#2a3f5f",
           "arrowhead": 0,
           "arrowwidth": 1
          },
          "autotypenumbers": "strict",
          "coloraxis": {
           "colorbar": {
            "outlinewidth": 0,
            "ticks": ""
           }
          },
          "colorscale": {
           "diverging": [
            [
             0,
             "#8e0152"
            ],
            [
             0.1,
             "#c51b7d"
            ],
            [
             0.2,
             "#de77ae"
            ],
            [
             0.3,
             "#f1b6da"
            ],
            [
             0.4,
             "#fde0ef"
            ],
            [
             0.5,
             "#f7f7f7"
            ],
            [
             0.6,
             "#e6f5d0"
            ],
            [
             0.7,
             "#b8e186"
            ],
            [
             0.8,
             "#7fbc41"
            ],
            [
             0.9,
             "#4d9221"
            ],
            [
             1,
             "#276419"
            ]
           ],
           "sequential": [
            [
             0,
             "#0d0887"
            ],
            [
             0.1111111111111111,
             "#46039f"
            ],
            [
             0.2222222222222222,
             "#7201a8"
            ],
            [
             0.3333333333333333,
             "#9c179e"
            ],
            [
             0.4444444444444444,
             "#bd3786"
            ],
            [
             0.5555555555555556,
             "#d8576b"
            ],
            [
             0.6666666666666666,
             "#ed7953"
            ],
            [
             0.7777777777777778,
             "#fb9f3a"
            ],
            [
             0.8888888888888888,
             "#fdca26"
            ],
            [
             1,
             "#f0f921"
            ]
           ],
           "sequentialminus": [
            [
             0,
             "#0d0887"
            ],
            [
             0.1111111111111111,
             "#46039f"
            ],
            [
             0.2222222222222222,
             "#7201a8"
            ],
            [
             0.3333333333333333,
             "#9c179e"
            ],
            [
             0.4444444444444444,
             "#bd3786"
            ],
            [
             0.5555555555555556,
             "#d8576b"
            ],
            [
             0.6666666666666666,
             "#ed7953"
            ],
            [
             0.7777777777777778,
             "#fb9f3a"
            ],
            [
             0.8888888888888888,
             "#fdca26"
            ],
            [
             1,
             "#f0f921"
            ]
           ]
          },
          "colorway": [
           "#636efa",
           "#EF553B",
           "#00cc96",
           "#ab63fa",
           "#FFA15A",
           "#19d3f3",
           "#FF6692",
           "#B6E880",
           "#FF97FF",
           "#FECB52"
          ],
          "font": {
           "color": "#2a3f5f"
          },
          "geo": {
           "bgcolor": "white",
           "lakecolor": "white",
           "landcolor": "#E5ECF6",
           "showlakes": true,
           "showland": true,
           "subunitcolor": "white"
          },
          "hoverlabel": {
           "align": "left"
          },
          "hovermode": "closest",
          "mapbox": {
           "style": "light"
          },
          "paper_bgcolor": "white",
          "plot_bgcolor": "#E5ECF6",
          "polar": {
           "angularaxis": {
            "gridcolor": "white",
            "linecolor": "white",
            "ticks": ""
           },
           "bgcolor": "#E5ECF6",
           "radialaxis": {
            "gridcolor": "white",
            "linecolor": "white",
            "ticks": ""
           }
          },
          "scene": {
           "xaxis": {
            "backgroundcolor": "#E5ECF6",
            "gridcolor": "white",
            "gridwidth": 2,
            "linecolor": "white",
            "showbackground": true,
            "ticks": "",
            "zerolinecolor": "white"
           },
           "yaxis": {
            "backgroundcolor": "#E5ECF6",
            "gridcolor": "white",
            "gridwidth": 2,
            "linecolor": "white",
            "showbackground": true,
            "ticks": "",
            "zerolinecolor": "white"
           },
           "zaxis": {
            "backgroundcolor": "#E5ECF6",
            "gridcolor": "white",
            "gridwidth": 2,
            "linecolor": "white",
            "showbackground": true,
            "ticks": "",
            "zerolinecolor": "white"
           }
          },
          "shapedefaults": {
           "line": {
            "color": "#2a3f5f"
           }
          },
          "ternary": {
           "aaxis": {
            "gridcolor": "white",
            "linecolor": "white",
            "ticks": ""
           },
           "baxis": {
            "gridcolor": "white",
            "linecolor": "white",
            "ticks": ""
           },
           "bgcolor": "#E5ECF6",
           "caxis": {
            "gridcolor": "white",
            "linecolor": "white",
            "ticks": ""
           }
          },
          "title": {
           "x": 0.05
          },
          "xaxis": {
           "automargin": true,
           "gridcolor": "white",
           "linecolor": "white",
           "ticks": "",
           "title": {
            "standoff": 15
           },
           "zerolinecolor": "white",
           "zerolinewidth": 2
          },
          "yaxis": {
           "automargin": true,
           "gridcolor": "white",
           "linecolor": "white",
           "ticks": "",
           "title": {
            "standoff": 15
           },
           "zerolinecolor": "white",
           "zerolinewidth": 2
          }
         }
        },
        "width": 700,
        "xaxis": {
         "anchor": "y",
         "autorange": true,
         "constrain": "domain",
         "domain": [
          0.25,
          0.75
         ],
         "range": [
          -0.5,
          3.5
         ],
         "scaleanchor": "y",
         "type": "category"
        },
        "yaxis": {
         "anchor": "x",
         "autorange": true,
         "constrain": "domain",
         "domain": [
          0,
          1
         ],
         "range": [
          3.5,
          -0.5
         ],
         "type": "category"
        }
       }
      },
      "image/png": "[encoded data removed]",
      "text/html": [
       "<div>                            <div id=\"bd01adbd-1882-4eb9-856c-5bac50a36970\" class=\"plotly-graph-div\" style=\"height:400px; width:700px;\"></div>            <script type=\"text/javascript\">                require([\"plotly\"], function(Plotly) {                    window.PLOTLYENV=window.PLOTLYENV || {};                                    if (document.getElementById(\"bd01adbd-1882-4eb9-856c-5bac50a36970\")) {                    Plotly.newPlot(                        \"bd01adbd-1882-4eb9-856c-5bac50a36970\",                        [{\"coloraxis\":\"coloraxis\",\"name\":\"0\",\"texttemplate\":\"%{z}\",\"x\":[\"Deaths\",\"Recovered\",\"Active\",\"Confirmed\"],\"y\":[\"Deaths\",\"Recovered\",\"Active\",\"Confirmed\"],\"z\":[[\"1.00\",\"0.83\",\"0.87\",\"0.93\"],[\"0.83\",\"1.00\",\"0.68\",\"0.91\"],[\"0.87\",\"0.68\",\"1.00\",\"0.93\"],[\"0.93\",\"0.91\",\"0.93\",\"1.00\"]],\"type\":\"heatmap\",\"xaxis\":\"x\",\"yaxis\":\"y\",\"hovertemplate\":\"x: %{x}\\u003cbr\\u003ey: %{y}\\u003cbr\\u003ecolor: %{z}\\u003cextra\\u003e\\u003c\\u002fextra\\u003e\"}],                        {\"template\":{\"data\":{\"histogram2dcontour\":[{\"type\":\"histogram2dcontour\",\"colorbar\":{\"outlinewidth\":0,\"ticks\":\"\"},\"colorscale\":[[0.0,\"#0d0887\"],[0.1111111111111111,\"#46039f\"],[0.2222222222222222,\"#7201a8\"],[0.3333333333333333,\"#9c179e\"],[0.4444444444444444,\"#bd3786\"],[0.5555555555555556,\"#d8576b\"],[0.6666666666666666,\"#ed7953\"],[0.7777777777777778,\"#fb9f3a\"],[0.8888888888888888,\"#fdca26\"],[1.0,\"#f0f921\"]]}],\"choropleth\":[{\"type\":\"choropleth\",\"colorbar\":{\"outlinewidth\":0,\"ticks\":\"\"}}],\"histogram2d\":[{\"type\":\"histogram2d\",\"colorbar\":{\"outlinewidth\":0,\"ticks\":\"\"},\"colorscale\":[[0.0,\"#0d0887\"],[0.1111111111111111,\"#46039f\"],[0.2222222222222222,\"#7201a8\"],[0.3333333333333333,\"#9c179e\"],[0.4444444444444444,\"#bd3786\"],[0.5555555555555556,\"#d8576b\"],[0.6666666666666666,\"#ed7953\"],[0.7777777777777778,\"#fb9f3a\"],[0.8888888888888888,\"#fdca26\"],[1.0,\"#f0f921\"]]}],\"heatmap\":[{\"type\":\"heatmap\",\"colorbar\":{\"outlinewidth\":0,\"ticks\":\"\"},\"colorscale\":[[0.0,\"#0d0887\"],[0.1111111111111111,\"#46039f\"],[0.2222222222222222,\"#7201a8\"],[0.3333333333333333,\"#9c179e\"],[0.4444444444444444,\"#bd3786\"],[0.5555555555555556,\"#d8576b\"],[0.6666666666666666,\"#ed7953\"],[0.7777777777777778,\"#fb9f3a\"],[0.8888888888888888,\"#fdca26\"],[1.0,\"#f0f921\"]]}],\"heatmapgl\":[{\"type\":\"heatmapgl\",\"colorbar\":{\"outlinewidth\":0,\"ticks\":\"\"},\"colorscale\":[[0.0,\"#0d0887\"],[0.1111111111111111,\"#46039f\"],[0.2222222222222222,\"#7201a8\"],[0.3333333333333333,\"#9c179e\"],[0.4444444444444444,\"#bd3786\"],[0.5555555555555556,\"#d8576b\"],[0.6666666666666666,\"#ed7953\"],[0.7777777777777778,\"#fb9f3a\"],[0.8888888888888888,\"#fdca26\"],[1.0,\"#f0f921\"]]}],\"contourcarpet\":[{\"type\":\"contourcarpet\",\"colorbar\":{\"outlinewidth\":0,\"ticks\":\"\"}}],\"contour\":[{\"type\":\"contour\",\"colorbar\":{\"outlinewidth\":0,\"ticks\":\"\"},\"colorscale\":[[0.0,\"#0d0887\"],[0.1111111111111111,\"#46039f\"],[0.2222222222222222,\"#7201a8\"],[0.3333333333333333,\"#9c179e\"],[0.4444444444444444,\"#bd3786\"],[0.5555555555555556,\"#d8576b\"],[0.6666666666666666,\"#ed7953\"],[0.7777777777777778,\"#fb9f3a\"],[0.8888888888888888,\"#fdca26\"],[1.0,\"#f0f921\"]]}],\"surface\":[{\"type\":\"surface\",\"colorbar\":{\"outlinewidth\":0,\"ticks\":\"\"},\"colorscale\":[[0.0,\"#0d0887\"],[0.1111111111111111,\"#46039f\"],[0.2222222222222222,\"#7201a8\"],[0.3333333333333333,\"#9c179e\"],[0.4444444444444444,\"#bd3786\"],[0.5555555555555556,\"#d8576b\"],[0.6666666666666666,\"#ed7953\"],[0.7777777777777778,\"#fb9f3a\"],[0.8888888888888888,\"#fdca26\"],[1.0,\"#f0f921\"]]}],\"mesh3d\":[{\"type\":\"mesh3d\",\"colorbar\":{\"outlinewidth\":0,\"ticks\":\"\"}}],\"scatter\":[{\"fillpattern\":{\"fillmode\":\"overlay\",\"size\":10,\"solidity\":0.2},\"type\":\"scatter\"}],\"parcoords\":[{\"type\":\"parcoords\",\"line\":{\"colorbar\":{\"outlinewidth\":0,\"ticks\":\"\"}}}],\"scatterpolargl\":[{\"type\":\"scatterpolargl\",\"marker\":{\"colorbar\":{\"outlinewidth\":0,\"ticks\":\"\"}}}],\"bar\":[{\"error_x\":{\"color\":\"#2a3f5f\"},\"error_y\":{\"color\":\"#2a3f5f\"},\"marker\":{\"line\":{\"color\":\"#E5ECF6\",\"width\":0.5},\"pattern\":{\"fillmode\":\"overlay\",\"size\":10,\"solidity\":0.2}},\"type\":\"bar\"}],\"scattergeo\":[{\"type\":\"scattergeo\",\"marker\":{\"colorbar\":{\"outlinewidth\":0,\"ticks\":\"\"}}}],\"scatterpolar\":[{\"type\":\"scatterpolar\",\"marker\":{\"colorbar\":{\"outlinewidth\":0,\"ticks\":\"\"}}}],\"histogram\":[{\"marker\":{\"pattern\":{\"fillmode\":\"overlay\",\"size\":10,\"solidity\":0.2}},\"type\":\"histogram\"}],\"scattergl\":[{\"type\":\"scattergl\",\"marker\":{\"colorbar\":{\"outlinewidth\":0,\"ticks\":\"\"}}}],\"scatter3d\":[{\"type\":\"scatter3d\",\"line\":{\"colorbar\":{\"outlinewidth\":0,\"ticks\":\"\"}},\"marker\":{\"colorbar\":{\"outlinewidth\":0,\"ticks\":\"\"}}}],\"scattermapbox\":[{\"type\":\"scattermapbox\",\"marker\":{\"colorbar\":{\"outlinewidth\":0,\"ticks\":\"\"}}}],\"scatterternary\":[{\"type\":\"scatterternary\",\"marker\":{\"colorbar\":{\"outlinewidth\":0,\"ticks\":\"\"}}}],\"scattercarpet\":[{\"type\":\"scattercarpet\",\"marker\":{\"colorbar\":{\"outlinewidth\":0,\"ticks\":\"\"}}}],\"carpet\":[{\"aaxis\":{\"endlinecolor\":\"#2a3f5f\",\"gridcolor\":\"white\",\"linecolor\":\"white\",\"minorgridcolor\":\"white\",\"startlinecolor\":\"#2a3f5f\"},\"baxis\":{\"endlinecolor\":\"#2a3f5f\",\"gridcolor\":\"white\",\"linecolor\":\"white\",\"minorgridcolor\":\"white\",\"startlinecolor\":\"#2a3f5f\"},\"type\":\"carpet\"}],\"table\":[{\"cells\":{\"fill\":{\"color\":\"#EBF0F8\"},\"line\":{\"color\":\"white\"}},\"header\":{\"fill\":{\"color\":\"#C8D4E3\"},\"line\":{\"color\":\"white\"}},\"type\":\"table\"}],\"barpolar\":[{\"marker\":{\"line\":{\"color\":\"#E5ECF6\",\"width\":0.5},\"pattern\":{\"fillmode\":\"overlay\",\"size\":10,\"solidity\":0.2}},\"type\":\"barpolar\"}],\"pie\":[{\"automargin\":true,\"type\":\"pie\"}]},\"layout\":{\"autotypenumbers\":\"strict\",\"colorway\":[\"#636efa\",\"#EF553B\",\"#00cc96\",\"#ab63fa\",\"#FFA15A\",\"#19d3f3\",\"#FF6692\",\"#B6E880\",\"#FF97FF\",\"#FECB52\"],\"font\":{\"color\":\"#2a3f5f\"},\"hovermode\":\"closest\",\"hoverlabel\":{\"align\":\"left\"},\"paper_bgcolor\":\"white\",\"plot_bgcolor\":\"#E5ECF6\",\"polar\":{\"bgcolor\":\"#E5ECF6\",\"angularaxis\":{\"gridcolor\":\"white\",\"linecolor\":\"white\",\"ticks\":\"\"},\"radialaxis\":{\"gridcolor\":\"white\",\"linecolor\":\"white\",\"ticks\":\"\"}},\"ternary\":{\"bgcolor\":\"#E5ECF6\",\"aaxis\":{\"gridcolor\":\"white\",\"linecolor\":\"white\",\"ticks\":\"\"},\"baxis\":{\"gridcolor\":\"white\",\"linecolor\":\"white\",\"ticks\":\"\"},\"caxis\":{\"gridcolor\":\"white\",\"linecolor\":\"white\",\"ticks\":\"\"}},\"coloraxis\":{\"colorbar\":{\"outlinewidth\":0,\"ticks\":\"\"}},\"colorscale\":{\"sequential\":[[0.0,\"#0d0887\"],[0.1111111111111111,\"#46039f\"],[0.2222222222222222,\"#7201a8\"],[0.3333333333333333,\"#9c179e\"],[0.4444444444444444,\"#bd3786\"],[0.5555555555555556,\"#d8576b\"],[0.6666666666666666,\"#ed7953\"],[0.7777777777777778,\"#fb9f3a\"],[0.8888888888888888,\"#fdca26\"],[1.0,\"#f0f921\"]],\"sequentialminus\":[[0.0,\"#0d0887\"],[0.1111111111111111,\"#46039f\"],[0.2222222222222222,\"#7201a8\"],[0.3333333333333333,\"#9c179e\"],[0.4444444444444444,\"#bd3786\"],[0.5555555555555556,\"#d8576b\"],[0.6666666666666666,\"#ed7953\"],[0.7777777777777778,\"#fb9f3a\"],[0.8888888888888888,\"#fdca26\"],[1.0,\"#f0f921\"]],\"diverging\":[[0,\"#8e0152\"],[0.1,\"#c51b7d\"],[0.2,\"#de77ae\"],[0.3,\"#f1b6da\"],[0.4,\"#fde0ef\"],[0.5,\"#f7f7f7\"],[0.6,\"#e6f5d0\"],[0.7,\"#b8e186\"],[0.8,\"#7fbc41\"],[0.9,\"#4d9221\"],[1,\"#276419\"]]},\"xaxis\":{\"gridcolor\":\"white\",\"linecolor\":\"white\",\"ticks\":\"\",\"title\":{\"standoff\":15},\"zerolinecolor\":\"white\",\"automargin\":true,\"zerolinewidth\":2},\"yaxis\":{\"gridcolor\":\"white\",\"linecolor\":\"white\",\"ticks\":\"\",\"title\":{\"standoff\":15},\"zerolinecolor\":\"white\",\"automargin\":true,\"zerolinewidth\":2},\"scene\":{\"xaxis\":{\"backgroundcolor\":\"#E5ECF6\",\"gridcolor\":\"white\",\"linecolor\":\"white\",\"showbackground\":true,\"ticks\":\"\",\"zerolinecolor\":\"white\",\"gridwidth\":2},\"yaxis\":{\"backgroundcolor\":\"#E5ECF6\",\"gridcolor\":\"white\",\"linecolor\":\"white\",\"showbackground\":true,\"ticks\":\"\",\"zerolinecolor\":\"white\",\"gridwidth\":2},\"zaxis\":{\"backgroundcolor\":\"#E5ECF6\",\"gridcolor\":\"white\",\"linecolor\":\"white\",\"showbackground\":true,\"ticks\":\"\",\"zerolinecolor\":\"white\",\"gridwidth\":2}},\"shapedefaults\":{\"line\":{\"color\":\"#2a3f5f\"}},\"annotationdefaults\":{\"arrowcolor\":\"#2a3f5f\",\"arrowhead\":0,\"arrowwidth\":1},\"geo\":{\"bgcolor\":\"white\",\"landcolor\":\"#E5ECF6\",\"subunitcolor\":\"white\",\"showland\":true,\"showlakes\":true,\"lakecolor\":\"white\"},\"title\":{\"x\":0.05},\"mapbox\":{\"style\":\"light\"}}},\"xaxis\":{\"anchor\":\"y\",\"domain\":[0.0,1.0],\"scaleanchor\":\"y\",\"constrain\":\"domain\"},\"yaxis\":{\"anchor\":\"x\",\"domain\":[0.0,1.0],\"autorange\":\"reversed\",\"constrain\":\"domain\"},\"coloraxis\":{\"colorscale\":[[0.0,\"#0d0887\"],[0.1111111111111111,\"#46039f\"],[0.2222222222222222,\"#7201a8\"],[0.3333333333333333,\"#9c179e\"],[0.4444444444444444,\"#bd3786\"],[0.5555555555555556,\"#d8576b\"],[0.6666666666666666,\"#ed7953\"],[0.7777777777777778,\"#fb9f3a\"],[0.8888888888888888,\"#fdca26\"],[1.0,\"#f0f921\"]]},\"margin\":{\"t\":60},\"height\":400,\"width\":700},                        {\"responsive\": true}                    ).then(function(){\n",
       "                            \n",
       "var gd = document.getElementById('bd01adbd-1882-4eb9-856c-5bac50a36970');\n",
       "var x = new MutationObserver(function (mutations, observer) {{\n",
       "        var display = window.getComputedStyle(gd).display;\n",
       "        if (!display || display === 'none') {{\n",
       "            console.log([gd, 'removed!']);\n",
       "            Plotly.purge(gd);\n",
       "            observer.disconnect();\n",
       "        }}\n",
       "}});\n",
       "\n",
       "// Listen for the removal of the full notebook cells\n",
       "var notebookContainer = gd.closest('#notebook-container');\n",
       "if (notebookContainer) {{\n",
       "    x.observe(notebookContainer, {childList: true});\n",
       "}}\n",
       "\n",
       "// Listen for the clearing of the current output cell\n",
       "var outputEl = gd.closest('.output');\n",
       "if (outputEl) {{\n",
       "    x.observe(outputEl, {childList: true});\n",
       "}}\n",
       "\n",
       "                        })                };                });            </script>        </div>"
      ]
     },
     "metadata": {},
     "output_type": "display_data"
    }
   ],
   "source": [
    "covid19 = data[['Deaths','Recovered','Active','Confirmed']]\n",
    "\n",
    "correlationMatrix = covid19.corr()\n",
    "\n",
    "correlationMatrix = correlationMatrix.map(\"{:,.2f}\".format)\n",
    "\n",
    "fig = pt.imshow(correlationMatrix, text_auto = True, title = \"\")\n",
    "fig.layout.height = 400\n",
    "fig.layout.width = 700\n",
    "fig.show()"
   ]
  },
  {
   "cell_type": "markdown",
   "id": "23ad8183-77d4-414b-bbdc-6c2d76fe3e10",
   "metadata": {},
   "source": [
    "* The number of Deaths correlates strongly with Confirmed cases (0.93), indicating that regions with more confirmed cases tend to have higher numbers of deaths.\n",
    "* Deaths also correlate strongly with Active cases (0.87), suggesting regions with higher active cases often have more deaths.\n",
    "* There is a strong correlation between Recovered and Confirmed cases (0.91), indicating that regions with more confirmed cases tend to also have more recoveries.\n",
    "* __Active cases correlate moderately with Recovered cases (0.68), suggesting that regions with more active cases also tend to have more recoveries, though not as strongly correlated as with deaths.__"
   ]
  },
  {
   "cell_type": "markdown",
   "id": "a3949f38-8ee7-45b2-b11c-6abbd8fdb491",
   "metadata": {},
   "source": [
    "## STATISTIC ANALYSIS"
   ]
  },
  {
   "cell_type": "markdown",
   "id": "d3edac48-4418-438c-afcc-76bb65d5009f",
   "metadata": {},
   "source": [
    "### ONE-WAY ANOVA USING SCIPY.STATS"
   ]
  },
  {
   "cell_type": "markdown",
   "id": "57f4fd61-eee5-4b26-962b-3d27e8e2e0df",
   "metadata": {},
   "source": [
    "* __null hypothesis : means of the groups are equal__\n",
    "* alternative hypothesis : means of the groups are not equal"
   ]
  },
  {
   "cell_type": "code",
   "execution_count": 333,
   "id": "7bd14ce6-3eca-4e96-84c8-9c2047943c62",
   "metadata": {},
   "outputs": [
    {
     "data": {
      "text/plain": [
       "F_onewayResult(statistic=1.9963976932476308, pvalue=0.08121513532851848)"
      ]
     },
     "execution_count": 333,
     "metadata": {},
     "output_type": "execute_result"
    }
   ],
   "source": [
    "# f statistic is the ratio of the varience between the groups to the variance within the groups.\n",
    "\n",
    "stats.f_oneway(data['Confirmed'][data['WHO Region'] == 'Eastern Mediterranean'],\n",
    "               data['Confirmed'][data['WHO Region'] == 'Europe'],\n",
    "               data['Confirmed'][data['WHO Region'] == 'Africa'],\n",
    "               data['Confirmed'][data['WHO Region'] == 'Americas'],\n",
    "               data['Confirmed'][data['WHO Region'] == 'Western Pacific'],\n",
    "               data['Confirmed'][data['WHO Region'] == 'South-East Asia'])"
   ]
  },
  {
   "cell_type": "markdown",
   "id": "2b8e5204-495d-4c43-9035-81d15f47a049",
   "metadata": {},
   "source": [
    "* The p-value (0.0812) is greater than 0.05, suggesting that __we do not have sufficient evidence to reject the null hypothesis__ at the 0.05 significance level. Therefore, based on this ANOVA test, we cannot conclude with statistical significance that there are differences in the mean number of 'Confirmed' cases across the WHO regions listed."
   ]
  },
  {
   "cell_type": "code",
   "execution_count": 321,
   "id": "d56082e9-71c3-4fef-b1fb-91b8cc8334f4",
   "metadata": {},
   "outputs": [
    {
     "data": {
      "text/plain": [
       "F_onewayResult(statistic=2.1904538797329773, pvalue=0.0571987028415476)"
      ]
     },
     "execution_count": 321,
     "metadata": {},
     "output_type": "execute_result"
    }
   ],
   "source": [
    "\n",
    "stats.f_oneway(data['Deaths'][data['WHO Region'] == 'Eastern Mediterranean'],\n",
    "               data['Deaths'][data['WHO Region'] == 'Europe'],\n",
    "               data['Deaths'][data['WHO Region'] == 'Africa'],\n",
    "               data['Deaths'][data['WHO Region'] == 'Americas'],\n",
    "               data['Deaths'][data['WHO Region'] == 'Western Pacific'],\n",
    "               data['Deaths'][data['WHO Region'] == 'South-East Asia'])"
   ]
  },
  {
   "cell_type": "markdown",
   "id": "cfdd8c27-38db-4f1c-b892-9f98f4c1cb5a",
   "metadata": {},
   "source": [
    "* The p-value (0.0571) is greater than 0.05, suggesting that __we do not have sufficient evidence to reject the null hypothesis at the 0.05__ significance level. Therefore, based on this ANOVA test, we cannot conclude with statistical significance that there are differences in the mean number of 'Confirmed' cases across the WHO regions listed."
   ]
  },
  {
   "cell_type": "code",
   "execution_count": 324,
   "id": "f0d760a6-73da-4b9f-a93a-579d3443e0d4",
   "metadata": {},
   "outputs": [
    {
     "data": {
      "text/plain": [
       "F_onewayResult(statistic=2.0964345566368774, pvalue=0.06784229625134583)"
      ]
     },
     "execution_count": 324,
     "metadata": {},
     "output_type": "execute_result"
    }
   ],
   "source": [
    "stats.f_oneway(data['Recovered'][data['WHO Region'] == 'Eastern Mediterranean'],\n",
    "               data['Recovered'][data['WHO Region'] == 'Europe'],\n",
    "               data['Recovered'][data['WHO Region'] == 'Africa'],\n",
    "               data['Recovered'][data['WHO Region'] == 'Americas'],\n",
    "               data['Recovered'][data['WHO Region'] == 'Western Pacific'],\n",
    "               data['Recovered'][data['WHO Region'] == 'South-East Asia'])"
   ]
  },
  {
   "cell_type": "markdown",
   "id": "67d3d6fe-ef79-429a-ac7c-fa6c1e253131",
   "metadata": {},
   "source": [
    "* The p-value (0.0678) is greater than 0.05, suggesting that __we do not have sufficient evidence to reject the null hypothesis at the 0.05__ significance level. Therefore, based on this ANOVA test, we cannot conclude with statistical significance that there are differences in the mean number of 'Confirmed' cases across the WHO regions listed."
   ]
  },
  {
   "cell_type": "code",
   "execution_count": 327,
   "id": "d4b2e184-5eb3-46f3-b7dd-26e5b42e1dc6",
   "metadata": {},
   "outputs": [
    {
     "data": {
      "text/plain": [
       "F_onewayResult(statistic=1.3950373550835093, pvalue=0.22814596948984575)"
      ]
     },
     "execution_count": 327,
     "metadata": {},
     "output_type": "execute_result"
    }
   ],
   "source": [
    "stats.f_oneway(data['Active'][data['WHO Region'] == 'Eastern Mediterranean'],\n",
    "               data['Active'][data['WHO Region'] == 'Europe'],\n",
    "               data['Active'][data['WHO Region'] == 'Africa'],\n",
    "               data['Active'][data['WHO Region'] == 'Americas'],\n",
    "               data['Active'][data['WHO Region'] == 'Western Pacific'],\n",
    "               data['Active'][data['WHO Region'] == 'South-East Asia'])"
   ]
  },
  {
   "cell_type": "markdown",
   "id": "823d02a8-63c4-4fe4-a5b6-c7089d460b30",
   "metadata": {},
   "source": [
    "* The p-value (0.228) is greater than 0.05, suggesting that __we do not have sufficient evidence to reject the null hypothesis at the 0.05 significance level__. Therefore, based on this ANOVA test, we cannot conclude with statistical significance that there are differences in the mean number of 'Confirmed' cases across the WHO regions listed."
   ]
  },
  {
   "cell_type": "code",
   "execution_count": null,
   "id": "e0c0f089-65ee-4d53-8b87-8bfd05c317af",
   "metadata": {},
   "outputs": [],
   "source": []
  }
 ],
 "metadata": {
  "kernelspec": {
   "display_name": "Python 3 (ipykernel)",
   "language": "python",
   "name": "python3"
  },
  "language_info": {
   "codemirror_mode": {
    "name": "ipython",
    "version": 3
   },
   "file_extension": ".py",
   "mimetype": "text/x-python",
   "name": "python",
   "nbconvert_exporter": "python",
   "pygments_lexer": "ipython3",
   "version": "3.12.4"
  }
 },
 "nbformat": 4,
 "nbformat_minor": 5
}
